{
 "cells": [
  {
   "cell_type": "markdown",
   "metadata": {},
   "source": [
    "# Iris Species Prediction"
   ]
  },
  {
   "cell_type": "markdown",
   "metadata": {},
   "source": [
    "### Imports"
   ]
  },
  {
   "cell_type": "code",
   "execution_count": 1,
   "metadata": {},
   "outputs": [],
   "source": [
    "import matplotlib as plt\n",
    "\n",
    "import seaborn as sns\n",
    "\n",
    "import pandas as pd\n",
    "\n",
    "from sklearn.discriminant_analysis import LinearDiscriminantAnalysis, QuadraticDiscriminantAnalysis\n",
    "from sklearn.ensemble import AdaBoostClassifier, GradientBoostingClassifier, RandomForestClassifier, VotingClassifier\n",
    "from sklearn.ensemble.partial_dependence import partial_dependence, plot_partial_dependence\n",
    "from sklearn.gaussian_process import GaussianProcessClassifier\n",
    "from sklearn.gaussian_process.kernels import RBF\n",
    "from sklearn.impute import SimpleImputer\n",
    "from sklearn.metrics import mean_absolute_error, make_scorer\n",
    "from sklearn.model_selection import cross_val_score\n",
    "from sklearn.naive_bayes import GaussianNB\n",
    "from sklearn.neighbors import KNeighborsClassifier\n",
    "from sklearn.neural_network import MLPClassifier\n",
    "from sklearn.pipeline import make_pipeline\n",
    "from sklearn.preprocessing import LabelEncoder\n",
    "from sklearn.svm import SVC\n",
    "from sklearn.tree import DecisionTreeClassifier\n",
    "\n",
    "from statistics import mean"
   ]
  },
  {
   "cell_type": "markdown",
   "metadata": {},
   "source": [
    "### Open csv"
   ]
  },
  {
   "cell_type": "code",
   "execution_count": 2,
   "metadata": {},
   "outputs": [
    {
     "data": {
      "text/plain": [
       "(               Id  SepalLengthCm  SepalWidthCm  PetalLengthCm  PetalWidthCm\n",
       " count  150.000000     150.000000    150.000000     150.000000    150.000000\n",
       " mean    75.500000       5.843333      3.054000       3.758667      1.198667\n",
       " std     43.445368       0.828066      0.433594       1.764420      0.763161\n",
       " min      1.000000       4.300000      2.000000       1.000000      0.100000\n",
       " 25%     38.250000       5.100000      2.800000       1.600000      0.300000\n",
       " 50%     75.500000       5.800000      3.000000       4.350000      1.300000\n",
       " 75%    112.750000       6.400000      3.300000       5.100000      1.800000\n",
       " max    150.000000       7.900000      4.400000       6.900000      2.500000,\n",
       "    Id  SepalLengthCm  SepalWidthCm  PetalLengthCm  PetalWidthCm      Species\n",
       " 0   1            5.1           3.5            1.4           0.2  Iris-setosa\n",
       " 1   2            4.9           3.0            1.4           0.2  Iris-setosa\n",
       " 2   3            4.7           3.2            1.3           0.2  Iris-setosa\n",
       " 3   4            4.6           3.1            1.5           0.2  Iris-setosa\n",
       " 4   5            5.0           3.6            1.4           0.2  Iris-setosa)"
      ]
     },
     "execution_count": 2,
     "metadata": {},
     "output_type": "execute_result"
    }
   ],
   "source": [
    "data = pd.read_csv('iris-species.csv')\n",
    "data.describe(), data.head()"
   ]
  },
  {
   "cell_type": "markdown",
   "metadata": {},
   "source": [
    "### Create X(set of features) and y(target variable)"
   ]
  },
  {
   "cell_type": "code",
   "execution_count": 3,
   "metadata": {},
   "outputs": [],
   "source": [
    "data.dropna(axis = 0, subset = ['Species'], inplace = True)\n",
    "y = data.Species\n",
    "X = data.drop(['Id', 'Species'], axis=1).select_dtypes(exclude=['object'])"
   ]
  },
  {
   "cell_type": "code",
   "execution_count": 17,
   "metadata": {},
   "outputs": [
    {
     "name": "stdout",
     "output_type": "stream",
     "text": [
      "   Id  SepalLengthCm  SepalWidthCm  PetalLengthCm  PetalWidthCm      Species  \\\n",
      "0   1            5.1           3.5            1.4           0.2  Iris-setosa   \n",
      "1   2            4.9           3.0            1.4           0.2  Iris-setosa   \n",
      "2   3            4.7           3.2            1.3           0.2  Iris-setosa   \n",
      "3   4            4.6           3.1            1.5           0.2  Iris-setosa   \n",
      "4   5            5.0           3.6            1.4           0.2  Iris-setosa   \n",
      "\n",
      "   Species_code  \n",
      "0             0  \n",
      "1             0  \n",
      "2             0  \n",
      "3             0  \n",
      "4             0  \n"
     ]
    },
    {
     "data": {
      "text/plain": [
       "<matplotlib.axes._subplots.AxesSubplot at 0x1fddc5a7b00>"
      ]
     },
     "execution_count": 17,
     "metadata": {},
     "output_type": "execute_result"
    },
    {
     "data": {
      "image/png": "[encoded data removed]",
      "text/plain": [
       "<Figure size 432x288 with 2 Axes>"
      ]
     },
     "metadata": {
      "needs_background": "light"
     },
     "output_type": "display_data"
    }
   ],
   "source": [
    "data.Species = pd.Categorical(data.Species)\n",
    "data['Species_code'] = data.Species.cat.codes\n",
    "f = (\n",
    "    data.loc[:, ['SepalLengthCm', 'SepalWidthCm', 'PetalLengthCm', 'PetalWidthCm', 'Species_code']]\n",
    ").corr()\n",
    "\n",
    "sns.heatmap(f, annot=True)"
   ]
  },
  {
   "cell_type": "markdown",
   "metadata": {},
   "source": [
    "## Imputation for Partial Dependence"
   ]
  },
  {
   "cell_type": "code",
   "execution_count": 7,
   "metadata": {},
   "outputs": [
    {
     "data": {
      "image/png": "[encoded data removed]",
      "text/plain": [
       "<Figure size 432x288 with 1 Axes>"
      ]
     },
     "metadata": {
      "needs_background": "light"
     },
     "output_type": "display_data"
    },
    {
     "data": {
      "image/png": "[encoded data removed]",
      "text/plain": [
       "<Figure size 432x288 with 1 Axes>"
      ]
     },
     "metadata": {
      "needs_background": "light"
     },
     "output_type": "display_data"
    },
    {
     "data": {
      "image/png": "[encoded data removed]",
      "text/plain": [
       "<Figure size 432x288 with 1 Axes>"
      ]
     },
     "metadata": {
      "needs_background": "light"
     },
     "output_type": "display_data"
    },
    {
     "data": {
      "image/png": "[encoded data removed]",
      "text/plain": [
       "<Figure size 432x288 with 1 Axes>"
      ]
     },
     "metadata": {
      "needs_background": "light"
     },
     "output_type": "display_data"
    },
    {
     "data": {
      "image/png": "[encoded data removed]",
      "text/plain": [
       "<Figure size 432x288 with 1 Axes>"
      ]
     },
     "metadata": {
      "needs_background": "light"
     },
     "output_type": "display_data"
    },
    {
     "data": {
      "image/png": "[encoded data removed]",
      "text/plain": [
       "<Figure size 432x288 with 1 Axes>"
      ]
     },
     "metadata": {
      "needs_background": "light"
     },
     "output_type": "display_data"
    },
    {
     "data": {
      "image/png": "[encoded data removed]",
      "text/plain": [
       "<Figure size 432x288 with 1 Axes>"
      ]
     },
     "metadata": {
      "needs_background": "light"
     },
     "output_type": "display_data"
    },
    {
     "data": {
      "image/png": "[encoded data removed]",
      "text/plain": [
       "<Figure size 432x288 with 1 Axes>"
      ]
     },
     "metadata": {
      "needs_background": "light"
     },
     "output_type": "display_data"
    },
    {
     "data": {
      "image/png": "[encoded data removed]",
      "text/plain": [
       "<Figure size 432x288 with 1 Axes>"
      ]
     },
     "metadata": {
      "needs_background": "light"
     },
     "output_type": "display_data"
    },
    {
     "data": {
      "image/png": "[encoded data removed]",
      "text/plain": [
       "<Figure size 432x288 with 1 Axes>"
      ]
     },
     "metadata": {
      "needs_background": "light"
     },
     "output_type": "display_data"
    },
    {
     "data": {
      "image/png": "[encoded data removed]",
      "text/plain": [
       "<Figure size 432x288 with 1 Axes>"
      ]
     },
     "metadata": {
      "needs_background": "light"
     },
     "output_type": "display_data"
    },
    {
     "data": {
      "image/png": "[encoded data removed]",
      "text/plain": [
       "<Figure size 432x288 with 1 Axes>"
      ]
     },
     "metadata": {
      "needs_background": "light"
     },
     "output_type": "display_data"
    }
   ],
   "source": [
    "imputed_X_plus = X.copy()\n",
    "cols_with_missing = (col for col in X.columns if X[col].isnull().any())\n",
    "for col in cols_with_missing:\n",
    "    print(col + 'was missing a value')\n",
    "    imputed_X_plus[col + '_was_missing'] = imputed_X_plus[col].isnull()\n",
    "my_imputer = SimpleImputer()\n",
    "imputed_X_plus = my_imputer.fit_transform(imputed_X_plus)\n",
    "cols = X.columns\n",
    "my_model = GradientBoostingClassifier()\n",
    "my_model.fit(imputed_X_plus, y)\n",
    "for _ in range(len(cols)):\n",
    "    my_plots = plot_partial_dependence(my_model, features = [_], X = imputed_X_plus, feature_names = cols,\n",
    "                                       grid_resolution = 10, label = ['Iris-setosa'])\n",
    "    my_plots = plot_partial_dependence(my_model, features = [_], X = imputed_X_plus, feature_names = cols,\n",
    "                                       grid_resolution = 10, label = ['Iris-virginica'])\n",
    "    my_plots = plot_partial_dependence(my_model, features = [_], X = imputed_X_plus, feature_names = cols,\n",
    "                                       grid_resolution = 10, label = ['Iris-versicolor'])"
   ]
  },
  {
   "cell_type": "markdown",
   "metadata": {},
   "source": [
    "## Encode string columns"
   ]
  },
  {
   "cell_type": "code",
   "execution_count": 8,
   "metadata": {},
   "outputs": [],
   "source": [
    "le = LabelEncoder()\n",
    "le.fit(data.Species)\n",
    "y = le.transform(data.Species)"
   ]
  },
  {
   "cell_type": "markdown",
   "metadata": {},
   "source": [
    "## Drop Irrelevant columns and make data model-ready"
   ]
  },
  {
   "cell_type": "code",
   "execution_count": 9,
   "metadata": {},
   "outputs": [],
   "source": [
    "# Drop irrelevant columns\n",
    "# Split data into training and testing data\n",
    "pass # Because we are using cross-validation for this small dataset"
   ]
  },
  {
   "cell_type": "markdown",
   "metadata": {},
   "source": [
    "## Defining custom scoring strategy"
   ]
  },
  {
   "cell_type": "code",
   "execution_count": 10,
   "metadata": {},
   "outputs": [],
   "source": [
    "def iris_accuracy(y_true, y_pred):\n",
    "    count = 0\n",
    "    for _ in range(len(y_pred)):\n",
    "        if y_true[_] == y_pred[_]:\n",
    "            count += 1\n",
    "    return count/len(y_pred)\n",
    "score = make_scorer(iris_accuracy, greater_is_better = True)"
   ]
  },
  {
   "cell_type": "markdown",
   "metadata": {},
   "source": [
    "### Linear Discriminant Analysis"
   ]
  },
  {
   "cell_type": "code",
   "execution_count": 11,
   "metadata": {},
   "outputs": [],
   "source": [
    "def lda(X, y):\n",
    "    return mean(cross_val_score(make_pipeline(SimpleImputer(), LinearDiscriminantAnalysis()), X, y, scoring = score,\n",
    "                               cv = 5))"
   ]
  },
  {
   "cell_type": "markdown",
   "metadata": {},
   "source": [
    "### Quadratic Discriminant Analysis"
   ]
  },
  {
   "cell_type": "code",
   "execution_count": 12,
   "metadata": {},
   "outputs": [],
   "source": [
    "def qda(X, y):\n",
    "    return mean(cross_val_score(make_pipeline(SimpleImputer(), QuadraticDiscriminantAnalysis()), X, y, scoring = score,\n",
    "                                cv = 5))"
   ]
  },
  {
   "cell_type": "markdown",
   "metadata": {},
   "source": [
    "### Ada Boost Classifier"
   ]
  },
  {
   "cell_type": "code",
   "execution_count": 13,
   "metadata": {},
   "outputs": [],
   "source": [
    "def abc(ne, lr, X, y):\n",
    "    return mean(cross_val_score(make_pipeline(SimpleImputer(), AdaBoostClassifier(n_estimators = ne, learning_rate = lr)),\n",
    "                                X, y, scoring = score, cv = 5))"
   ]
  },
  {
   "cell_type": "markdown",
   "metadata": {},
   "source": [
    "### Gradient Boosting Classifier"
   ]
  },
  {
   "cell_type": "code",
   "execution_count": 14,
   "metadata": {},
   "outputs": [],
   "source": [
    "def gbc(ne, lr, X, y):\n",
    "    return mean(cross_val_score(make_pipeline(SimpleImputer(),\n",
    "                                              GradientBoostingClassifier(n_estimators = ne, learning_rate = lr)), X, y,\n",
    "                                scoring = score, cv = 5))"
   ]
  },
  {
   "cell_type": "markdown",
   "metadata": {},
   "source": [
    "### Random Forest Classifier"
   ]
  },
  {
   "cell_type": "code",
   "execution_count": 15,
   "metadata": {},
   "outputs": [],
   "source": [
    "def rfc(ne, md, X, y):\n",
    "    return mean(cross_val_score(make_pipeline(SimpleImputer(),\n",
    "                                              GradientBoostingClassifier(n_estimators = ne, max_depth = md)), X, y,\n",
    "                                scoring = score, cv = 5))"
   ]
  },
  {
   "cell_type": "markdown",
   "metadata": {},
   "source": [
    "### Voting Classifier"
   ]
  },
  {
   "cell_type": "code",
   "execution_count": 36,
   "metadata": {},
   "outputs": [],
   "source": [
    "def vc(e, X, y):\n",
    "    return mean(cross_val_score(make_pipeline(SimpleImputer(), VotingClassifier(estimators = e)), X, y, scoring = score,\n",
    "                                cv = 5))"
   ]
  },
  {
   "cell_type": "markdown",
   "metadata": {},
   "source": [
    "### Gaussian Process Classifier"
   ]
  },
  {
   "cell_type": "code",
   "execution_count": 17,
   "metadata": {},
   "outputs": [],
   "source": [
    "def gpc(X, y):\n",
    "    return mean(cross_val_score(make_pipeline(SimpleImputer(), GaussianProcessClassifier(1.0 * RBF(1.0))), X, y,\n",
    "                                scoring = score, cv = 5))"
   ]
  },
  {
   "cell_type": "markdown",
   "metadata": {},
   "source": [
    "### Naive Bayes"
   ]
  },
  {
   "cell_type": "code",
   "execution_count": 18,
   "metadata": {},
   "outputs": [],
   "source": [
    "def nb(X, y):\n",
    "    return mean(cross_val_score(make_pipeline(SimpleImputer(), GaussianNB()), X, y, scoring = score, cv = 5))"
   ]
  },
  {
   "cell_type": "markdown",
   "metadata": {},
   "source": [
    "### k Nearest Neighbors"
   ]
  },
  {
   "cell_type": "code",
   "execution_count": 19,
   "metadata": {},
   "outputs": [],
   "source": [
    "def knn(nn, X, y):\n",
    "    return mean(cross_val_score(make_pipeline(SimpleImputer(), KNeighborsClassifier(n_neighbors = nn)), X, y,\n",
    "                                scoring = score, cv = 5))"
   ]
  },
  {
   "cell_type": "markdown",
   "metadata": {},
   "source": [
    "### MLP Classifier"
   ]
  },
  {
   "cell_type": "code",
   "execution_count": 20,
   "metadata": {},
   "outputs": [],
   "source": [
    "def mlp(X, y):\n",
    "    return mean(cross_val_score(make_pipeline(SimpleImputer(), MLPClassifier()), X, y, scoring = score, cv = 5))"
   ]
  },
  {
   "cell_type": "markdown",
   "metadata": {},
   "source": [
    "### SVC"
   ]
  },
  {
   "cell_type": "code",
   "execution_count": 21,
   "metadata": {},
   "outputs": [],
   "source": [
    "def svc(X, y):\n",
    "    return mean(cross_val_score(make_pipeline(SimpleImputer(), SVC(kernel = \"linear\", C = 0.025)), X, y,\n",
    "                                scoring = score, cv = 5))"
   ]
  },
  {
   "cell_type": "markdown",
   "metadata": {},
   "source": [
    "### Decision Tree Classifier"
   ]
  },
  {
   "cell_type": "code",
   "execution_count": 22,
   "metadata": {},
   "outputs": [],
   "source": [
    "def dtc(md, X, y):\n",
    "    return mean(cross_val_score(make_pipeline(SimpleImputer(), DecisionTreeClassifier(max_depth = md)), X, y,\n",
    "                                scoring = score, cv = 5))"
   ]
  },
  {
   "cell_type": "markdown",
   "metadata": {},
   "source": [
    "\n",
    "## Running the models"
   ]
  },
  {
   "cell_type": "markdown",
   "metadata": {},
   "source": [
    "### Linear Discriminant Analysis"
   ]
  },
  {
   "cell_type": "code",
   "execution_count": 23,
   "metadata": {
    "scrolled": false
   },
   "outputs": [
    {
     "data": {
      "text/plain": [
       "0.98"
      ]
     },
     "execution_count": 23,
     "metadata": {},
     "output_type": "execute_result"
    }
   ],
   "source": [
    "lda(X, y)"
   ]
  },
  {
   "cell_type": "markdown",
   "metadata": {},
   "source": [
    "### Quadratic Discriminant Analysis"
   ]
  },
  {
   "cell_type": "code",
   "execution_count": 24,
   "metadata": {},
   "outputs": [
    {
     "data": {
      "text/plain": [
       "0.98"
      ]
     },
     "execution_count": 24,
     "metadata": {},
     "output_type": "execute_result"
    }
   ],
   "source": [
    "qda(X, y)"
   ]
  },
  {
   "cell_type": "markdown",
   "metadata": {},
   "source": [
    "### Ada Boost Classifier"
   ]
  },
  {
   "cell_type": "code",
   "execution_count": 25,
   "metadata": {},
   "outputs": [
    {
     "name": "stdout",
     "output_type": "stream",
     "text": [
      "(ne = 50, lr = 0.02): 0.9400000000000001\n",
      "(ne = 50, lr = 0.04): 0.9400000000000001\n",
      "(ne = 50, lr = 0.06): 0.9400000000000001\n",
      "(ne = 50, lr = 0.08): 0.9400000000000001\n",
      "(ne = 50, lr = 0.1): 0.9400000000000001\n",
      "(ne = 100, lr = 0.02): 0.9400000000000001\n",
      "(ne = 100, lr = 0.04): 0.9400000000000001\n",
      "(ne = 100, lr = 0.06): 0.9466666666666667\n",
      "(ne = 100, lr = 0.08): 0.9400000000000001\n",
      "(ne = 100, lr = 0.1): 0.9400000000000001\n",
      "(ne = 500, lr = 0.02): 0.9400000000000001\n",
      "(ne = 500, lr = 0.04): 0.9466666666666667\n",
      "(ne = 500, lr = 0.06): 0.9466666666666667\n",
      "(ne = 500, lr = 0.08): 0.9533333333333334\n",
      "(ne = 500, lr = 0.1): 0.9533333333333334\n",
      "(ne = 1000, lr = 0.02): 0.9466666666666667\n",
      "(ne = 1000, lr = 0.04): 0.9466666666666667\n",
      "(ne = 1000, lr = 0.06): 0.9466666666666667\n",
      "(ne = 1000, lr = 0.08): 0.9533333333333334\n",
      "(ne = 1000, lr = 0.1): 0.9533333333333334\n",
      "0 0 97\n"
     ]
    }
   ],
   "source": [
    "ne = [50, 100, 500, 1000]\n",
    "lr = [0.02, 0.04, 0.06, 0.08, 0.1]\n",
    "max_ne, max_lr, max_acc = 0, 0, 0.97\n",
    "for _ in ne:\n",
    "    for __ in lr:\n",
    "        acc = abc(_, __, X, y)\n",
    "        if acc > max_acc:\n",
    "            max_acc = acc\n",
    "            max_ne = _\n",
    "            max_lr = __\n",
    "        print(\"(ne = \" + str(_) + \", lr = \" + str(__) + \"): \" + str(acc))\n",
    "print(max_ne, max_lr, max_acc)"
   ]
  },
  {
   "cell_type": "markdown",
   "metadata": {},
   "source": [
    "### Gradient Boosting Classifier"
   ]
  },
  {
   "cell_type": "code",
   "execution_count": 27,
   "metadata": {},
   "outputs": [
    {
     "name": "stdout",
     "output_type": "stream",
     "text": [
      "(ne = 5, lr = 0.02): 0.96\n",
      "(ne = 5, lr = 0.04): 0.96\n",
      "(ne = 5, lr = 0.06): 0.96\n",
      "(ne = 5, lr = 0.08): 0.96\n",
      "(ne = 5, lr = 0.1): 0.96\n",
      "(ne = 10, lr = 0.02): 0.96\n",
      "(ne = 10, lr = 0.04): 0.9666666666666667\n",
      "(ne = 10, lr = 0.06): 0.96\n",
      "(ne = 10, lr = 0.08): 0.96\n",
      "(ne = 10, lr = 0.1): 0.96\n",
      "(ne = 50, lr = 0.02): 0.96\n",
      "(ne = 50, lr = 0.04): 0.96\n",
      "(ne = 50, lr = 0.06): 0.96\n",
      "(ne = 50, lr = 0.08): 0.96\n",
      "(ne = 50, lr = 0.1): 0.9533333333333334\n",
      "(ne = 100, lr = 0.02): 0.96\n",
      "(ne = 100, lr = 0.04): 0.96\n",
      "(ne = 100, lr = 0.06): 0.96\n",
      "(ne = 100, lr = 0.08): 0.96\n",
      "(ne = 100, lr = 0.1): 0.9533333333333334\n",
      "(ne = 500, lr = 0.02): 0.9533333333333334\n",
      "(ne = 500, lr = 0.04): 0.96\n",
      "(ne = 500, lr = 0.06): 0.96\n",
      "(ne = 500, lr = 0.08): 0.96\n",
      "(ne = 500, lr = 0.1): 0.9533333333333334\n",
      "10 0.04 0.9666666666666667\n"
     ]
    }
   ],
   "source": [
    "ne = [5, 10, 50, 100, 500]\n",
    "lr = [0.02, 0.04, 0.06, 0.08, 0.1]\n",
    "max_ne, max_lr, max_acc = 0, 0, 0\n",
    "for _ in ne:\n",
    "    for __ in lr:\n",
    "        acc = gbc(_, __, X, y)\n",
    "        if acc > max_acc:\n",
    "            max_acc = acc\n",
    "            max_ne = _\n",
    "            max_lr = __\n",
    "        print(\"(ne = \" + str(_) + \", lr = \" + str(__) + \"): \" + str(acc))\n",
    "print(max_ne, max_lr, max_acc)"
   ]
  },
  {
   "cell_type": "code",
   "execution_count": 28,
   "metadata": {},
   "outputs": [
    {
     "name": "stdout",
     "output_type": "stream",
     "text": [
      "(ne = 6, lr = 0.02): 0.9666666666666667\n",
      "(ne = 6, lr = 0.04): 0.96\n",
      "(ne = 6, lr = 0.06): 0.96\n",
      "(ne = 6, lr = 0.08): 0.9533333333333334\n",
      "(ne = 6, lr = 0.1): 0.9533333333333334\n",
      "(ne = 10, lr = 0.02): 0.96\n",
      "(ne = 10, lr = 0.04): 0.96\n",
      "(ne = 10, lr = 0.06): 0.96\n",
      "(ne = 10, lr = 0.08): 0.9533333333333334\n",
      "(ne = 10, lr = 0.1): 0.96\n",
      "(ne = 20, lr = 0.02): 0.96\n",
      "(ne = 20, lr = 0.04): 0.96\n",
      "(ne = 20, lr = 0.06): 0.96\n",
      "(ne = 20, lr = 0.08): 0.96\n",
      "(ne = 20, lr = 0.1): 0.96\n",
      "(ne = 35, lr = 0.02): 0.96\n",
      "(ne = 35, lr = 0.04): 0.96\n",
      "(ne = 35, lr = 0.06): 0.96\n",
      "(ne = 35, lr = 0.08): 0.96\n",
      "(ne = 35, lr = 0.1): 0.96\n",
      "(ne = 49, lr = 0.02): 0.96\n",
      "(ne = 49, lr = 0.04): 0.96\n",
      "(ne = 49, lr = 0.06): 0.96\n",
      "(ne = 49, lr = 0.08): 0.96\n",
      "(ne = 49, lr = 0.1): 0.96\n",
      "6 0.02 0.9666666666666667\n"
     ]
    }
   ],
   "source": [
    "ne = [6, 10, 20, 35, 49]\n",
    "lr = [0.02, 0.04, 0.06, 0.08, 0.1]\n",
    "max_ne, max_lr, max_acc = 0, 0, 0\n",
    "for _ in ne:\n",
    "    for __ in lr:\n",
    "        acc = gbc(_, __, X, y)\n",
    "        if acc > max_acc:\n",
    "            max_acc = acc\n",
    "            max_ne = _\n",
    "            max_lr = __\n",
    "        print(\"(ne = \" + str(_) + \", lr = \" + str(__) + \"): \" + str(acc))\n",
    "print(max_ne, max_lr, max_acc)"
   ]
  },
  {
   "cell_type": "markdown",
   "metadata": {},
   "source": [
    "### Random Forest Classifier"
   ]
  },
  {
   "cell_type": "code",
   "execution_count": 30,
   "metadata": {},
   "outputs": [
    {
     "name": "stdout",
     "output_type": "stream",
     "text": [
      "(ne = 5, md = 5): 0.96\n",
      "(ne = 5, md = 50): 0.9333333333333333\n",
      "(ne = 5, md = 100): 0.9466666666666667\n",
      "(ne = 5, md = 500): 0.9533333333333334\n",
      "(ne = 5, md = 1000): 0.96\n",
      "(ne = 10, md = 5): 0.9466666666666667\n",
      "(ne = 10, md = 50): 0.9333333333333333\n",
      "(ne = 10, md = 100): 0.9266666666666666\n",
      "(ne = 10, md = 500): 0.9466666666666667\n",
      "(ne = 10, md = 1000): 0.9666666666666667\n",
      "(ne = 50, md = 5): 0.96\n",
      "(ne = 50, md = 50): 0.9333333333333333\n",
      "(ne = 50, md = 100): 0.9466666666666667\n",
      "(ne = 50, md = 500): 0.9533333333333334\n",
      "(ne = 50, md = 1000): 0.9666666666666667\n",
      "(ne = 100, md = 5): 0.9533333333333334\n",
      "(ne = 100, md = 50): 0.9333333333333333\n",
      "(ne = 100, md = 100): 0.9400000000000001\n",
      "(ne = 100, md = 500): 0.9466666666666667\n",
      "(ne = 100, md = 1000): 0.9666666666666667\n",
      "10 1000 0.9666666666666667\n"
     ]
    }
   ],
   "source": [
    "ne = [5, 10, 50, 100]\n",
    "md = [5, 50, 100, 500, 1000]\n",
    "max_ne, max_md, max_acc = 0, 0, 0\n",
    "for _ in ne:\n",
    "    for __ in md:\n",
    "        acc = gbc(_, __, X, y)\n",
    "        if acc > max_acc:\n",
    "            max_acc = acc\n",
    "            max_ne = _\n",
    "            max_md = __\n",
    "        print(\"(ne = \" + str(_) + \", md = \" + str(__) + \"): \" + str(acc))\n",
    "print(max_ne, max_md, max_acc)"
   ]
  },
  {
   "cell_type": "code",
   "execution_count": 31,
   "metadata": {},
   "outputs": [
    {
     "name": "stdout",
     "output_type": "stream",
     "text": [
      "(ne = 5, md = 500): 0.9533333333333334\n",
      "(ne = 5, md = 1000): 0.9666666666666667\n",
      "(ne = 5, md = 2000): 0.9666666666666667\n",
      "(ne = 5, md = 5000): 0.9666666666666667\n",
      "(ne = 10, md = 500): 0.9533333333333334\n",
      "(ne = 10, md = 1000): 0.9666666666666667\n",
      "(ne = 10, md = 2000): 0.96\n",
      "(ne = 10, md = 5000): 0.96\n",
      "(ne = 20, md = 500): 0.9533333333333334\n",
      "(ne = 20, md = 1000): 0.96\n",
      "(ne = 20, md = 2000): 0.96\n",
      "(ne = 20, md = 5000): 0.96\n",
      "(ne = 35, md = 500): 0.9466666666666667\n",
      "(ne = 35, md = 1000): 0.9666666666666667\n",
      "(ne = 35, md = 2000): 0.9666666666666667\n",
      "(ne = 35, md = 5000): 0.96\n",
      "(ne = 50, md = 500): 0.9466666666666667\n",
      "(ne = 50, md = 1000): 0.9666666666666667\n",
      "(ne = 50, md = 2000): 0.9666666666666667\n",
      "(ne = 50, md = 5000): 0.9666666666666667\n",
      "5 1000 0.9666666666666667\n"
     ]
    }
   ],
   "source": [
    "ne = [5, 10, 20, 35, 50]\n",
    "md = [500, 1000, 2000, 5000]\n",
    "max_ne, max_md, max_acc = 0, 0, 0\n",
    "for _ in ne:\n",
    "    for __ in md:\n",
    "        acc = gbc(_, __, X, y)\n",
    "        if acc > max_acc:\n",
    "            max_acc = acc\n",
    "            max_ne = _\n",
    "            max_md = __\n",
    "        print(\"(ne = \" + str(_) + \", md = \" + str(__) + \"): \" + str(acc))\n",
    "print(max_ne, max_md, max_acc)"
   ]
  },
  {
   "cell_type": "code",
   "execution_count": 32,
   "metadata": {},
   "outputs": [
    {
     "name": "stdout",
     "output_type": "stream",
     "text": [
      "(ne = 1, md = 600): 0.96\n",
      "(ne = 1, md = 1000): 0.9666666666666667\n",
      "(ne = 1, md = 1500): 0.96\n",
      "(ne = 2, md = 600): 0.96\n",
      "(ne = 2, md = 1000): 0.96\n",
      "(ne = 2, md = 1500): 0.96\n",
      "(ne = 5, md = 600): 0.9666666666666667\n",
      "(ne = 5, md = 1000): 0.9666666666666667\n",
      "(ne = 5, md = 1500): 0.96\n",
      "(ne = 8, md = 600): 0.9666666666666667\n",
      "(ne = 8, md = 1000): 0.9666666666666667\n",
      "(ne = 8, md = 1500): 0.9666666666666667\n",
      "(ne = 10, md = 600): 0.9666666666666667\n",
      "(ne = 10, md = 1000): 0.96\n",
      "(ne = 10, md = 1500): 0.9666666666666667\n",
      "1 1000 0.9666666666666667\n"
     ]
    }
   ],
   "source": [
    "ne = [1, 2, 5, 8, 10]\n",
    "md = [600, 1000, 1500]\n",
    "max_ne, max_md, max_acc = 0, 0, 0\n",
    "for _ in ne:\n",
    "    for __ in md:\n",
    "        acc = gbc(_, __, X, y)\n",
    "        if acc > max_acc:\n",
    "            max_acc = acc\n",
    "            max_ne = _\n",
    "            max_md = __\n",
    "        print(\"(ne = \" + str(_) + \", md = \" + str(__) + \"): \" + str(acc))\n",
    "print(max_ne, max_md, max_acc)"
   ]
  },
  {
   "cell_type": "code",
   "execution_count": 34,
   "metadata": {},
   "outputs": [
    {
     "name": "stdout",
     "output_type": "stream",
     "text": [
      "(ne = 1, md = 1000): 0.9666666666666667\n",
      "(ne = 1, md = 5000): 0.96\n",
      "(ne = 1, md = 10000): 0.96\n",
      "(ne = 1, md = 100000): 0.96\n",
      "(ne = 2, md = 1000): 0.9666666666666667\n",
      "(ne = 2, md = 5000): 0.9666666666666667\n",
      "(ne = 2, md = 10000): 0.9666666666666667\n",
      "(ne = 2, md = 100000): 0.9666666666666667\n",
      "(ne = 5, md = 1000): 0.96\n",
      "(ne = 5, md = 5000): 0.96\n",
      "(ne = 5, md = 10000): 0.9666666666666667\n",
      "(ne = 5, md = 100000): 0.96\n",
      "1 1000 0.9666666666666667\n"
     ]
    }
   ],
   "source": [
    "ne = [1, 2, 5]\n",
    "md = [1000, 5000, 10000, 100000]\n",
    "max_ne, max_md, max_acc = 0, 0, 0\n",
    "for _ in ne:\n",
    "    for __ in md:\n",
    "        acc = gbc(_, __, X, y)\n",
    "        if acc > max_acc:\n",
    "            max_acc = acc\n",
    "            max_ne = _\n",
    "            max_md = __\n",
    "        print(\"(ne = \" + str(_) + \", md = \" + str(__) + \"): \" + str(acc))\n",
    "print(max_ne, max_md, max_acc)"
   ]
  },
  {
   "cell_type": "markdown",
   "metadata": {},
   "source": [
    "### Voting Classifier"
   ]
  },
  {
   "cell_type": "code",
   "execution_count": 39,
   "metadata": {},
   "outputs": [
    {
     "name": "stderr",
     "output_type": "stream",
     "text": [
      "C:\\Users\\Aditya\\Anaconda3\\lib\\site-packages\\sklearn\\model_selection\\_validation.py:542: FutureWarning: From version 0.22, errors during fit will result in a cross validation score of NaN by default. Use error_score='raise' if you want an exception raised or error_score=np.nan to adopt the behavior from version 0.22.\n",
      "  FutureWarning)\n"
     ]
    },
    {
     "ename": "TypeError",
     "evalue": "object of type 'int' has no len()",
     "output_type": "error",
     "traceback": [
      "\u001b[1;31m---------------------------------------------------------------------------\u001b[0m",
      "\u001b[1;31mTypeError\u001b[0m                                 Traceback (most recent call last)",
      "\u001b[1;32m<ipython-input-39-0f429ce80f81>\u001b[0m in \u001b[0;36m<module>\u001b[1;34m()\u001b[0m\n\u001b[0;32m      2\u001b[0m \u001b[0mmax_e\u001b[0m\u001b[1;33m,\u001b[0m \u001b[0mmax_acc\u001b[0m \u001b[1;33m=\u001b[0m \u001b[1;36m0\u001b[0m\u001b[1;33m,\u001b[0m \u001b[1;36m0\u001b[0m\u001b[1;33m\u001b[0m\u001b[0m\n\u001b[0;32m      3\u001b[0m \u001b[1;32mfor\u001b[0m \u001b[0m_\u001b[0m \u001b[1;32min\u001b[0m \u001b[0me\u001b[0m\u001b[1;33m:\u001b[0m\u001b[1;33m\u001b[0m\u001b[0m\n\u001b[1;32m----> 4\u001b[1;33m     \u001b[0macc\u001b[0m \u001b[1;33m=\u001b[0m \u001b[0mvc\u001b[0m\u001b[1;33m(\u001b[0m\u001b[0m_\u001b[0m\u001b[1;33m,\u001b[0m \u001b[0mX\u001b[0m\u001b[1;33m,\u001b[0m \u001b[0my\u001b[0m\u001b[1;33m)\u001b[0m\u001b[1;33m\u001b[0m\u001b[0m\n\u001b[0m\u001b[0;32m      5\u001b[0m     \u001b[1;32mif\u001b[0m \u001b[0macc\u001b[0m \u001b[1;33m>\u001b[0m \u001b[0mmax_acc\u001b[0m\u001b[1;33m:\u001b[0m\u001b[1;33m\u001b[0m\u001b[0m\n\u001b[0;32m      6\u001b[0m         \u001b[0mmax_acc\u001b[0m \u001b[1;33m=\u001b[0m \u001b[0macc\u001b[0m\u001b[1;33m\u001b[0m\u001b[0m\n",
      "\u001b[1;32m<ipython-input-36-5f545d9d7187>\u001b[0m in \u001b[0;36mvc\u001b[1;34m(e, X, y)\u001b[0m\n\u001b[0;32m      1\u001b[0m \u001b[1;32mdef\u001b[0m \u001b[0mvc\u001b[0m\u001b[1;33m(\u001b[0m\u001b[0me\u001b[0m\u001b[1;33m,\u001b[0m \u001b[0mX\u001b[0m\u001b[1;33m,\u001b[0m \u001b[0my\u001b[0m\u001b[1;33m)\u001b[0m\u001b[1;33m:\u001b[0m\u001b[1;33m\u001b[0m\u001b[0m\n\u001b[0;32m      2\u001b[0m     return mean(cross_val_score(make_pipeline(SimpleImputer(), VotingClassifier(estimators = e)), X, y, scoring = score,\n\u001b[1;32m----> 3\u001b[1;33m                                 cv = 5))\n\u001b[0m",
      "\u001b[1;32m~\\Anaconda3\\lib\\site-packages\\sklearn\\model_selection\\_validation.py\u001b[0m in \u001b[0;36mcross_val_score\u001b[1;34m(estimator, X, y, groups, scoring, cv, n_jobs, verbose, fit_params, pre_dispatch, error_score)\u001b[0m\n\u001b[0;32m    400\u001b[0m                                 \u001b[0mfit_params\u001b[0m\u001b[1;33m=\u001b[0m\u001b[0mfit_params\u001b[0m\u001b[1;33m,\u001b[0m\u001b[1;33m\u001b[0m\u001b[0m\n\u001b[0;32m    401\u001b[0m                                 \u001b[0mpre_dispatch\u001b[0m\u001b[1;33m=\u001b[0m\u001b[0mpre_dispatch\u001b[0m\u001b[1;33m,\u001b[0m\u001b[1;33m\u001b[0m\u001b[0m\n\u001b[1;32m--> 402\u001b[1;33m                                 error_score=error_score)\n\u001b[0m\u001b[0;32m    403\u001b[0m     \u001b[1;32mreturn\u001b[0m \u001b[0mcv_results\u001b[0m\u001b[1;33m[\u001b[0m\u001b[1;34m'test_score'\u001b[0m\u001b[1;33m]\u001b[0m\u001b[1;33m\u001b[0m\u001b[0m\n\u001b[0;32m    404\u001b[0m \u001b[1;33m\u001b[0m\u001b[0m\n",
      "\u001b[1;32m~\\Anaconda3\\lib\\site-packages\\sklearn\\model_selection\\_validation.py\u001b[0m in \u001b[0;36mcross_validate\u001b[1;34m(estimator, X, y, groups, scoring, cv, n_jobs, verbose, fit_params, pre_dispatch, return_train_score, return_estimator, error_score)\u001b[0m\n\u001b[0;32m    238\u001b[0m             \u001b[0mreturn_times\u001b[0m\u001b[1;33m=\u001b[0m\u001b[1;32mTrue\u001b[0m\u001b[1;33m,\u001b[0m \u001b[0mreturn_estimator\u001b[0m\u001b[1;33m=\u001b[0m\u001b[0mreturn_estimator\u001b[0m\u001b[1;33m,\u001b[0m\u001b[1;33m\u001b[0m\u001b[0m\n\u001b[0;32m    239\u001b[0m             error_score=error_score)\n\u001b[1;32m--> 240\u001b[1;33m         for train, test in cv.split(X, y, groups))\n\u001b[0m\u001b[0;32m    241\u001b[0m \u001b[1;33m\u001b[0m\u001b[0m\n\u001b[0;32m    242\u001b[0m     \u001b[0mzipped_scores\u001b[0m \u001b[1;33m=\u001b[0m \u001b[0mlist\u001b[0m\u001b[1;33m(\u001b[0m\u001b[0mzip\u001b[0m\u001b[1;33m(\u001b[0m\u001b[1;33m*\u001b[0m\u001b[0mscores\u001b[0m\u001b[1;33m)\u001b[0m\u001b[1;33m)\u001b[0m\u001b[1;33m\u001b[0m\u001b[0m\n",
      "\u001b[1;32m~\\Anaconda3\\lib\\site-packages\\sklearn\\externals\\joblib\\parallel.py\u001b[0m in \u001b[0;36m__call__\u001b[1;34m(self, iterable)\u001b[0m\n\u001b[0;32m    915\u001b[0m             \u001b[1;31m# remaining jobs.\u001b[0m\u001b[1;33m\u001b[0m\u001b[1;33m\u001b[0m\u001b[0m\n\u001b[0;32m    916\u001b[0m             \u001b[0mself\u001b[0m\u001b[1;33m.\u001b[0m\u001b[0m_iterating\u001b[0m \u001b[1;33m=\u001b[0m \u001b[1;32mFalse\u001b[0m\u001b[1;33m\u001b[0m\u001b[0m\n\u001b[1;32m--> 917\u001b[1;33m             \u001b[1;32mif\u001b[0m \u001b[0mself\u001b[0m\u001b[1;33m.\u001b[0m\u001b[0mdispatch_one_batch\u001b[0m\u001b[1;33m(\u001b[0m\u001b[0miterator\u001b[0m\u001b[1;33m)\u001b[0m\u001b[1;33m:\u001b[0m\u001b[1;33m\u001b[0m\u001b[0m\n\u001b[0m\u001b[0;32m    918\u001b[0m                 \u001b[0mself\u001b[0m\u001b[1;33m.\u001b[0m\u001b[0m_iterating\u001b[0m \u001b[1;33m=\u001b[0m \u001b[0mself\u001b[0m\u001b[1;33m.\u001b[0m\u001b[0m_original_iterator\u001b[0m \u001b[1;32mis\u001b[0m \u001b[1;32mnot\u001b[0m \u001b[1;32mNone\u001b[0m\u001b[1;33m\u001b[0m\u001b[0m\n\u001b[0;32m    919\u001b[0m \u001b[1;33m\u001b[0m\u001b[0m\n",
      "\u001b[1;32m~\\Anaconda3\\lib\\site-packages\\sklearn\\externals\\joblib\\parallel.py\u001b[0m in \u001b[0;36mdispatch_one_batch\u001b[1;34m(self, iterator)\u001b[0m\n\u001b[0;32m    757\u001b[0m                 \u001b[1;32mreturn\u001b[0m \u001b[1;32mFalse\u001b[0m\u001b[1;33m\u001b[0m\u001b[0m\n\u001b[0;32m    758\u001b[0m             \u001b[1;32melse\u001b[0m\u001b[1;33m:\u001b[0m\u001b[1;33m\u001b[0m\u001b[0m\n\u001b[1;32m--> 759\u001b[1;33m                 \u001b[0mself\u001b[0m\u001b[1;33m.\u001b[0m\u001b[0m_dispatch\u001b[0m\u001b[1;33m(\u001b[0m\u001b[0mtasks\u001b[0m\u001b[1;33m)\u001b[0m\u001b[1;33m\u001b[0m\u001b[0m\n\u001b[0m\u001b[0;32m    760\u001b[0m                 \u001b[1;32mreturn\u001b[0m \u001b[1;32mTrue\u001b[0m\u001b[1;33m\u001b[0m\u001b[0m\n\u001b[0;32m    761\u001b[0m \u001b[1;33m\u001b[0m\u001b[0m\n",
      "\u001b[1;32m~\\Anaconda3\\lib\\site-packages\\sklearn\\externals\\joblib\\parallel.py\u001b[0m in \u001b[0;36m_dispatch\u001b[1;34m(self, batch)\u001b[0m\n\u001b[0;32m    714\u001b[0m         \u001b[1;32mwith\u001b[0m \u001b[0mself\u001b[0m\u001b[1;33m.\u001b[0m\u001b[0m_lock\u001b[0m\u001b[1;33m:\u001b[0m\u001b[1;33m\u001b[0m\u001b[0m\n\u001b[0;32m    715\u001b[0m             \u001b[0mjob_idx\u001b[0m \u001b[1;33m=\u001b[0m \u001b[0mlen\u001b[0m\u001b[1;33m(\u001b[0m\u001b[0mself\u001b[0m\u001b[1;33m.\u001b[0m\u001b[0m_jobs\u001b[0m\u001b[1;33m)\u001b[0m\u001b[1;33m\u001b[0m\u001b[0m\n\u001b[1;32m--> 716\u001b[1;33m             \u001b[0mjob\u001b[0m \u001b[1;33m=\u001b[0m \u001b[0mself\u001b[0m\u001b[1;33m.\u001b[0m\u001b[0m_backend\u001b[0m\u001b[1;33m.\u001b[0m\u001b[0mapply_async\u001b[0m\u001b[1;33m(\u001b[0m\u001b[0mbatch\u001b[0m\u001b[1;33m,\u001b[0m \u001b[0mcallback\u001b[0m\u001b[1;33m=\u001b[0m\u001b[0mcb\u001b[0m\u001b[1;33m)\u001b[0m\u001b[1;33m\u001b[0m\u001b[0m\n\u001b[0m\u001b[0;32m    717\u001b[0m             \u001b[1;31m# A job can complete so quickly than its callback is\u001b[0m\u001b[1;33m\u001b[0m\u001b[1;33m\u001b[0m\u001b[0m\n\u001b[0;32m    718\u001b[0m             \u001b[1;31m# called before we get here, causing self._jobs to\u001b[0m\u001b[1;33m\u001b[0m\u001b[1;33m\u001b[0m\u001b[0m\n",
      "\u001b[1;32m~\\Anaconda3\\lib\\site-packages\\sklearn\\externals\\joblib\\_parallel_backends.py\u001b[0m in \u001b[0;36mapply_async\u001b[1;34m(self, func, callback)\u001b[0m\n\u001b[0;32m    180\u001b[0m     \u001b[1;32mdef\u001b[0m \u001b[0mapply_async\u001b[0m\u001b[1;33m(\u001b[0m\u001b[0mself\u001b[0m\u001b[1;33m,\u001b[0m \u001b[0mfunc\u001b[0m\u001b[1;33m,\u001b[0m \u001b[0mcallback\u001b[0m\u001b[1;33m=\u001b[0m\u001b[1;32mNone\u001b[0m\u001b[1;33m)\u001b[0m\u001b[1;33m:\u001b[0m\u001b[1;33m\u001b[0m\u001b[0m\n\u001b[0;32m    181\u001b[0m         \u001b[1;34m\"\"\"Schedule a func to be run\"\"\"\u001b[0m\u001b[1;33m\u001b[0m\u001b[0m\n\u001b[1;32m--> 182\u001b[1;33m         \u001b[0mresult\u001b[0m \u001b[1;33m=\u001b[0m \u001b[0mImmediateResult\u001b[0m\u001b[1;33m(\u001b[0m\u001b[0mfunc\u001b[0m\u001b[1;33m)\u001b[0m\u001b[1;33m\u001b[0m\u001b[0m\n\u001b[0m\u001b[0;32m    183\u001b[0m         \u001b[1;32mif\u001b[0m \u001b[0mcallback\u001b[0m\u001b[1;33m:\u001b[0m\u001b[1;33m\u001b[0m\u001b[0m\n\u001b[0;32m    184\u001b[0m             \u001b[0mcallback\u001b[0m\u001b[1;33m(\u001b[0m\u001b[0mresult\u001b[0m\u001b[1;33m)\u001b[0m\u001b[1;33m\u001b[0m\u001b[0m\n",
      "\u001b[1;32m~\\Anaconda3\\lib\\site-packages\\sklearn\\externals\\joblib\\_parallel_backends.py\u001b[0m in \u001b[0;36m__init__\u001b[1;34m(self, batch)\u001b[0m\n\u001b[0;32m    547\u001b[0m         \u001b[1;31m# Don't delay the application, to avoid keeping the input\u001b[0m\u001b[1;33m\u001b[0m\u001b[1;33m\u001b[0m\u001b[0m\n\u001b[0;32m    548\u001b[0m         \u001b[1;31m# arguments in memory\u001b[0m\u001b[1;33m\u001b[0m\u001b[1;33m\u001b[0m\u001b[0m\n\u001b[1;32m--> 549\u001b[1;33m         \u001b[0mself\u001b[0m\u001b[1;33m.\u001b[0m\u001b[0mresults\u001b[0m \u001b[1;33m=\u001b[0m \u001b[0mbatch\u001b[0m\u001b[1;33m(\u001b[0m\u001b[1;33m)\u001b[0m\u001b[1;33m\u001b[0m\u001b[0m\n\u001b[0m\u001b[0;32m    550\u001b[0m \u001b[1;33m\u001b[0m\u001b[0m\n\u001b[0;32m    551\u001b[0m     \u001b[1;32mdef\u001b[0m \u001b[0mget\u001b[0m\u001b[1;33m(\u001b[0m\u001b[0mself\u001b[0m\u001b[1;33m)\u001b[0m\u001b[1;33m:\u001b[0m\u001b[1;33m\u001b[0m\u001b[0m\n",
      "\u001b[1;32m~\\Anaconda3\\lib\\site-packages\\sklearn\\externals\\joblib\\parallel.py\u001b[0m in \u001b[0;36m__call__\u001b[1;34m(self)\u001b[0m\n\u001b[0;32m    223\u001b[0m         \u001b[1;32mwith\u001b[0m \u001b[0mparallel_backend\u001b[0m\u001b[1;33m(\u001b[0m\u001b[0mself\u001b[0m\u001b[1;33m.\u001b[0m\u001b[0m_backend\u001b[0m\u001b[1;33m,\u001b[0m \u001b[0mn_jobs\u001b[0m\u001b[1;33m=\u001b[0m\u001b[0mself\u001b[0m\u001b[1;33m.\u001b[0m\u001b[0m_n_jobs\u001b[0m\u001b[1;33m)\u001b[0m\u001b[1;33m:\u001b[0m\u001b[1;33m\u001b[0m\u001b[0m\n\u001b[0;32m    224\u001b[0m             return [func(*args, **kwargs)\n\u001b[1;32m--> 225\u001b[1;33m                     for func, args, kwargs in self.items]\n\u001b[0m\u001b[0;32m    226\u001b[0m \u001b[1;33m\u001b[0m\u001b[0m\n\u001b[0;32m    227\u001b[0m     \u001b[1;32mdef\u001b[0m \u001b[0m__len__\u001b[0m\u001b[1;33m(\u001b[0m\u001b[0mself\u001b[0m\u001b[1;33m)\u001b[0m\u001b[1;33m:\u001b[0m\u001b[1;33m\u001b[0m\u001b[0m\n",
      "\u001b[1;32m~\\Anaconda3\\lib\\site-packages\\sklearn\\externals\\joblib\\parallel.py\u001b[0m in \u001b[0;36m<listcomp>\u001b[1;34m(.0)\u001b[0m\n\u001b[0;32m    223\u001b[0m         \u001b[1;32mwith\u001b[0m \u001b[0mparallel_backend\u001b[0m\u001b[1;33m(\u001b[0m\u001b[0mself\u001b[0m\u001b[1;33m.\u001b[0m\u001b[0m_backend\u001b[0m\u001b[1;33m,\u001b[0m \u001b[0mn_jobs\u001b[0m\u001b[1;33m=\u001b[0m\u001b[0mself\u001b[0m\u001b[1;33m.\u001b[0m\u001b[0m_n_jobs\u001b[0m\u001b[1;33m)\u001b[0m\u001b[1;33m:\u001b[0m\u001b[1;33m\u001b[0m\u001b[0m\n\u001b[0;32m    224\u001b[0m             return [func(*args, **kwargs)\n\u001b[1;32m--> 225\u001b[1;33m                     for func, args, kwargs in self.items]\n\u001b[0m\u001b[0;32m    226\u001b[0m \u001b[1;33m\u001b[0m\u001b[0m\n\u001b[0;32m    227\u001b[0m     \u001b[1;32mdef\u001b[0m \u001b[0m__len__\u001b[0m\u001b[1;33m(\u001b[0m\u001b[0mself\u001b[0m\u001b[1;33m)\u001b[0m\u001b[1;33m:\u001b[0m\u001b[1;33m\u001b[0m\u001b[0m\n",
      "\u001b[1;32m~\\Anaconda3\\lib\\site-packages\\sklearn\\model_selection\\_validation.py\u001b[0m in \u001b[0;36m_fit_and_score\u001b[1;34m(estimator, X, y, scorer, train, test, verbose, parameters, fit_params, return_train_score, return_parameters, return_n_test_samples, return_times, return_estimator, error_score)\u001b[0m\n\u001b[0;32m    526\u001b[0m             \u001b[0mestimator\u001b[0m\u001b[1;33m.\u001b[0m\u001b[0mfit\u001b[0m\u001b[1;33m(\u001b[0m\u001b[0mX_train\u001b[0m\u001b[1;33m,\u001b[0m \u001b[1;33m**\u001b[0m\u001b[0mfit_params\u001b[0m\u001b[1;33m)\u001b[0m\u001b[1;33m\u001b[0m\u001b[0m\n\u001b[0;32m    527\u001b[0m         \u001b[1;32melse\u001b[0m\u001b[1;33m:\u001b[0m\u001b[1;33m\u001b[0m\u001b[0m\n\u001b[1;32m--> 528\u001b[1;33m             \u001b[0mestimator\u001b[0m\u001b[1;33m.\u001b[0m\u001b[0mfit\u001b[0m\u001b[1;33m(\u001b[0m\u001b[0mX_train\u001b[0m\u001b[1;33m,\u001b[0m \u001b[0my_train\u001b[0m\u001b[1;33m,\u001b[0m \u001b[1;33m**\u001b[0m\u001b[0mfit_params\u001b[0m\u001b[1;33m)\u001b[0m\u001b[1;33m\u001b[0m\u001b[0m\n\u001b[0m\u001b[0;32m    529\u001b[0m \u001b[1;33m\u001b[0m\u001b[0m\n\u001b[0;32m    530\u001b[0m     \u001b[1;32mexcept\u001b[0m \u001b[0mException\u001b[0m \u001b[1;32mas\u001b[0m \u001b[0me\u001b[0m\u001b[1;33m:\u001b[0m\u001b[1;33m\u001b[0m\u001b[0m\n",
      "\u001b[1;32m~\\Anaconda3\\lib\\site-packages\\sklearn\\pipeline.py\u001b[0m in \u001b[0;36mfit\u001b[1;34m(self, X, y, **fit_params)\u001b[0m\n\u001b[0;32m    265\u001b[0m         \u001b[0mXt\u001b[0m\u001b[1;33m,\u001b[0m \u001b[0mfit_params\u001b[0m \u001b[1;33m=\u001b[0m \u001b[0mself\u001b[0m\u001b[1;33m.\u001b[0m\u001b[0m_fit\u001b[0m\u001b[1;33m(\u001b[0m\u001b[0mX\u001b[0m\u001b[1;33m,\u001b[0m \u001b[0my\u001b[0m\u001b[1;33m,\u001b[0m \u001b[1;33m**\u001b[0m\u001b[0mfit_params\u001b[0m\u001b[1;33m)\u001b[0m\u001b[1;33m\u001b[0m\u001b[0m\n\u001b[0;32m    266\u001b[0m         \u001b[1;32mif\u001b[0m \u001b[0mself\u001b[0m\u001b[1;33m.\u001b[0m\u001b[0m_final_estimator\u001b[0m \u001b[1;32mis\u001b[0m \u001b[1;32mnot\u001b[0m \u001b[1;32mNone\u001b[0m\u001b[1;33m:\u001b[0m\u001b[1;33m\u001b[0m\u001b[0m\n\u001b[1;32m--> 267\u001b[1;33m             \u001b[0mself\u001b[0m\u001b[1;33m.\u001b[0m\u001b[0m_final_estimator\u001b[0m\u001b[1;33m.\u001b[0m\u001b[0mfit\u001b[0m\u001b[1;33m(\u001b[0m\u001b[0mXt\u001b[0m\u001b[1;33m,\u001b[0m \u001b[0my\u001b[0m\u001b[1;33m,\u001b[0m \u001b[1;33m**\u001b[0m\u001b[0mfit_params\u001b[0m\u001b[1;33m)\u001b[0m\u001b[1;33m\u001b[0m\u001b[0m\n\u001b[0m\u001b[0;32m    268\u001b[0m         \u001b[1;32mreturn\u001b[0m \u001b[0mself\u001b[0m\u001b[1;33m\u001b[0m\u001b[0m\n\u001b[0;32m    269\u001b[0m \u001b[1;33m\u001b[0m\u001b[0m\n",
      "\u001b[1;32m~\\Anaconda3\\lib\\site-packages\\sklearn\\ensemble\\voting_classifier.py\u001b[0m in \u001b[0;36mfit\u001b[1;34m(self, X, y, sample_weight)\u001b[0m\n\u001b[0;32m    165\u001b[0m                              % self.voting)\n\u001b[0;32m    166\u001b[0m \u001b[1;33m\u001b[0m\u001b[0m\n\u001b[1;32m--> 167\u001b[1;33m         \u001b[1;32mif\u001b[0m \u001b[0mself\u001b[0m\u001b[1;33m.\u001b[0m\u001b[0mestimators\u001b[0m \u001b[1;32mis\u001b[0m \u001b[1;32mNone\u001b[0m \u001b[1;32mor\u001b[0m \u001b[0mlen\u001b[0m\u001b[1;33m(\u001b[0m\u001b[0mself\u001b[0m\u001b[1;33m.\u001b[0m\u001b[0mestimators\u001b[0m\u001b[1;33m)\u001b[0m \u001b[1;33m==\u001b[0m \u001b[1;36m0\u001b[0m\u001b[1;33m:\u001b[0m\u001b[1;33m\u001b[0m\u001b[0m\n\u001b[0m\u001b[0;32m    168\u001b[0m             raise AttributeError('Invalid `estimators` attribute, `estimators`'\n\u001b[0;32m    169\u001b[0m                                  \u001b[1;34m' should be a list of (string, estimator)'\u001b[0m\u001b[1;33m\u001b[0m\u001b[0m\n",
      "\u001b[1;31mTypeError\u001b[0m: object of type 'int' has no len()"
     ]
    }
   ],
   "source": [
    "e = [5, 10, 100, 500, 1000]\n",
    "max_e, max_acc = 0, 0\n",
    "for _ in e:\n",
    "    acc = vc(_, X, y)\n",
    "    if acc > max_acc:\n",
    "        max_acc = acc\n",
    "        max_e = _\n",
    "    print(\"(e = \" + str(_) + \"): \" + str(acc))\n",
    "print(max_e, max_acc)"
   ]
  },
  {
   "cell_type": "markdown",
   "metadata": {},
   "source": [
    "### Gaussian Process Classifier"
   ]
  },
  {
   "cell_type": "code",
   "execution_count": 40,
   "metadata": {},
   "outputs": [
    {
     "name": "stderr",
     "output_type": "stream",
     "text": [
      "C:\\Users\\Aditya\\Anaconda3\\lib\\site-packages\\sklearn\\gaussian_process\\gpc.py:434: ConvergenceWarning: fmin_l_bfgs_b terminated abnormally with the  state: {'grad': array([ 0.13932806, -0.07261931]), 'task': b'ABNORMAL_TERMINATION_IN_LNSRCH', 'funcalls': 54, 'nit': 4, 'warnflag': 2}\n",
      "  ConvergenceWarning)\n"
     ]
    },
    {
     "data": {
      "text/plain": [
       "0.9666666666666667"
      ]
     },
     "execution_count": 40,
     "metadata": {},
     "output_type": "execute_result"
    }
   ],
   "source": [
    "gpc(X, y)"
   ]
  },
  {
   "cell_type": "markdown",
   "metadata": {},
   "source": [
    "### Naive Bayes"
   ]
  },
  {
   "cell_type": "code",
   "execution_count": 41,
   "metadata": {},
   "outputs": [
    {
     "data": {
      "text/plain": [
       "0.9533333333333334"
      ]
     },
     "execution_count": 41,
     "metadata": {},
     "output_type": "execute_result"
    }
   ],
   "source": [
    "nb(X, y)"
   ]
  },
  {
   "cell_type": "markdown",
   "metadata": {},
   "source": [
    "### k Nearest Neighbors"
   ]
  },
  {
   "cell_type": "code",
   "execution_count": 46,
   "metadata": {},
   "outputs": [
    {
     "name": "stdout",
     "output_type": "stream",
     "text": [
      "(nn = 2): 0.9466666666666667\n",
      "(nn = 5): 0.9733333333333334\n",
      "(nn = 10): 0.98\n",
      "(nn = 15): 0.9666666666666667\n",
      "(nn = 20): 0.96\n",
      "(nn = 50): 0.9133333333333333\n",
      "10 0.98\n"
     ]
    }
   ],
   "source": [
    "nn = [2, 5, 10, 15, 20, 50]\n",
    "max_nn, max_acc = 0, 0\n",
    "for _ in nn:\n",
    "    acc = knn(_, X, y)\n",
    "    if acc > max_acc:\n",
    "        max_acc = acc\n",
    "        max_nn = _\n",
    "    print(\"(nn = \" + str(_) + \"): \" + str(acc))\n",
    "print(max_nn, max_acc)"
   ]
  },
  {
   "cell_type": "code",
   "execution_count": 47,
   "metadata": {},
   "outputs": [
    {
     "name": "stdout",
     "output_type": "stream",
     "text": [
      "(nn = 6): 0.98\n",
      "(nn = 8): 0.9666666666666667\n",
      "(nn = 10): 0.98\n",
      "(nn = 12): 0.98\n",
      "(nn = 14): 0.9666666666666667\n",
      "6 0.98\n"
     ]
    }
   ],
   "source": [
    "nn = [6, 8, 10, 12, 14]\n",
    "max_nn, max_acc = 0, 0\n",
    "for _ in nn:\n",
    "    acc = knn(_, X, y)\n",
    "    if acc > max_acc:\n",
    "        max_acc = acc\n",
    "        max_nn = _\n",
    "    print(\"(nn = \" + str(_) + \"): \" + str(acc))\n",
    "print(max_nn, max_acc)"
   ]
  },
  {
   "cell_type": "code",
   "execution_count": 48,
   "metadata": {},
   "outputs": [
    {
     "name": "stdout",
     "output_type": "stream",
     "text": [
      "(nn = 5): 0.9733333333333334\n",
      "(nn = 6): 0.98\n",
      "(nn = 7): 0.98\n",
      "6 0.98\n"
     ]
    }
   ],
   "source": [
    "nn = [5, 6, 7]\n",
    "max_nn, max_acc = 0, 0\n",
    "for _ in nn:\n",
    "    acc = knn(_, X, y)\n",
    "    if acc > max_acc:\n",
    "        max_acc = acc\n",
    "        max_nn = _\n",
    "    print(\"(nn = \" + str(_) + \"): \" + str(acc))\n",
    "print(max_nn, max_acc)"
   ]
  },
  {
   "cell_type": "markdown",
   "metadata": {},
   "source": [
    "### MLP Classifier"
   ]
  },
  {
   "cell_type": "code",
   "execution_count": 49,
   "metadata": {},
   "outputs": [
    {
     "name": "stderr",
     "output_type": "stream",
     "text": [
      "C:\\Users\\Aditya\\Anaconda3\\lib\\site-packages\\sklearn\\neural_network\\multilayer_perceptron.py:562: ConvergenceWarning: Stochastic Optimizer: Maximum iterations (200) reached and the optimization hasn't converged yet.\n",
      "  % self.max_iter, ConvergenceWarning)\n",
      "C:\\Users\\Aditya\\Anaconda3\\lib\\site-packages\\sklearn\\neural_network\\multilayer_perceptron.py:562: ConvergenceWarning: Stochastic Optimizer: Maximum iterations (200) reached and the optimization hasn't converged yet.\n",
      "  % self.max_iter, ConvergenceWarning)\n",
      "C:\\Users\\Aditya\\Anaconda3\\lib\\site-packages\\sklearn\\neural_network\\multilayer_perceptron.py:562: ConvergenceWarning: Stochastic Optimizer: Maximum iterations (200) reached and the optimization hasn't converged yet.\n",
      "  % self.max_iter, ConvergenceWarning)\n",
      "C:\\Users\\Aditya\\Anaconda3\\lib\\site-packages\\sklearn\\neural_network\\multilayer_perceptron.py:562: ConvergenceWarning: Stochastic Optimizer: Maximum iterations (200) reached and the optimization hasn't converged yet.\n",
      "  % self.max_iter, ConvergenceWarning)\n",
      "C:\\Users\\Aditya\\Anaconda3\\lib\\site-packages\\sklearn\\neural_network\\multilayer_perceptron.py:562: ConvergenceWarning: Stochastic Optimizer: Maximum iterations (200) reached and the optimization hasn't converged yet.\n",
      "  % self.max_iter, ConvergenceWarning)\n"
     ]
    },
    {
     "data": {
      "text/plain": [
       "0.98"
      ]
     },
     "execution_count": 49,
     "metadata": {},
     "output_type": "execute_result"
    }
   ],
   "source": [
    "mlp(X, y)"
   ]
  },
  {
   "cell_type": "markdown",
   "metadata": {},
   "source": [
    "### SVC"
   ]
  },
  {
   "cell_type": "code",
   "execution_count": 50,
   "metadata": {},
   "outputs": [
    {
     "data": {
      "text/plain": [
       "0.9466666666666667"
      ]
     },
     "execution_count": 50,
     "metadata": {},
     "output_type": "execute_result"
    }
   ],
   "source": [
    "svc(X, y)"
   ]
  },
  {
   "cell_type": "markdown",
   "metadata": {},
   "source": [
    "### Decision Tree Classifier"
   ]
  },
  {
   "cell_type": "code",
   "execution_count": 54,
   "metadata": {},
   "outputs": [
    {
     "name": "stdout",
     "output_type": "stream",
     "text": [
      "(md = 2): 0.9333333333333333\n",
      "(md = 5): 0.9533333333333334\n",
      "(md = 10): 0.96\n",
      "(md = 15): 0.9666666666666667\n",
      "(md = 20): 0.9666666666666667\n",
      "(md = 50): 0.96\n",
      "15 0.9666666666666667\n"
     ]
    }
   ],
   "source": [
    "md = [2, 5, 10, 15, 20, 50]\n",
    "max_md, max_acc = 0, 0\n",
    "for _ in md:\n",
    "    acc = dtc(_, X, y)\n",
    "    if acc > max_acc:\n",
    "        max_acc = acc\n",
    "        max_md = _\n",
    "    print(\"(md = \" + str(_) + \"): \" + str(acc))\n",
    "print(max_md, max_acc)"
   ]
  },
  {
   "cell_type": "code",
   "execution_count": 55,
   "metadata": {},
   "outputs": [
    {
     "name": "stdout",
     "output_type": "stream",
     "text": [
      "(md = 12): 0.9666666666666667\n",
      "(md = 14): 0.9666666666666667\n",
      "(md = 15): 0.9666666666666667\n",
      "(md = 16): 0.96\n",
      "(md = 18): 0.96\n",
      "12 0.9666666666666667\n"
     ]
    }
   ],
   "source": [
    "md = [12, 14, 15, 16, 18]\n",
    "max_md, max_acc = 0, 0\n",
    "for _ in md:\n",
    "    acc = dtc(_, X, y)\n",
    "    if acc > max_acc:\n",
    "        max_acc = acc\n",
    "        max_md = _\n",
    "    print(\"(md = \" + str(_) + \"): \" + str(acc))\n",
    "print(max_md, max_acc)"
   ]
  },
  {
   "cell_type": "code",
   "execution_count": 56,
   "metadata": {},
   "outputs": [
    {
     "name": "stdout",
     "output_type": "stream",
     "text": [
      "(md = 11): 0.9666666666666667\n",
      "(md = 12): 0.96\n",
      "(md = 13): 0.9666666666666667\n",
      "11 0.9666666666666667\n"
     ]
    }
   ],
   "source": [
    "md = [11, 12, 13]\n",
    "max_md, max_acc = 0, 0\n",
    "for _ in md:\n",
    "    acc = dtc(_, X, y)\n",
    "    if acc > max_acc:\n",
    "        max_acc = acc\n",
    "        max_md = _\n",
    "    print(\"(md = \" + str(_) + \"): \" + str(acc))\n",
    "print(max_md, max_acc)"
   ]
  },
  {
   "cell_type": "code",
   "execution_count": null,
   "metadata": {},
   "outputs": [],
   "source": []
  }
 ],
 "metadata": {
  "kernelspec": {
   "display_name": "Python 3",
   "language": "python",
   "name": "python3"
  },
  "language_info": {
   "codemirror_mode": {
    "name": "ipython",
    "version": 3
   },
   "file_extension": ".py",
   "mimetype": "text/x-python",
   "name": "python",
   "nbconvert_exporter": "python",
   "pygments_lexer": "ipython3",
   "version": "3.7.0"
  }
 },
 "nbformat": 4,
 "nbformat_minor": 2
}
